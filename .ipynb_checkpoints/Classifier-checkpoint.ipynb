{
 "cells": [
  {
   "cell_type": "code",
   "execution_count": 1,
   "metadata": {},
   "outputs": [],
   "source": [
    "# Data files\n",
    "normal_traffic_file_1 = 'normalTrafficTraining.txt'\n",
    "normal_traffic_file_2 = 'normalTrafficTest.txt'\n",
    "anomalous_traffic_file = 'anomalousTrafficTest.txt'"
   ]
  },
  {
   "cell_type": "code",
   "execution_count": 2,
   "metadata": {},
   "outputs": [],
   "source": [
    "# Load data and remove newlines characters\n",
    "def load_data(file_name):\n",
    "    file = open(file_name, 'r')\n",
    "    contents = file.read().split('\\n')\n",
    "    file.close()\n",
    "    return contents"
   ]
  },
  {
   "cell_type": "code",
   "execution_count": 3,
   "metadata": {},
   "outputs": [],
   "source": [
    "# Load normal and anomalous data into seperate lists\n",
    "normal_traffic = load_data(normal_traffic_file_1) + load_data(normal_traffic_file_2)\n",
    "anomalous_traffic = load_data(anomalous_traffic_file)"
   ]
  },
  {
   "cell_type": "code",
   "execution_count": 4,
   "metadata": {},
   "outputs": [],
   "source": [
    "# Create a list of http requests\n",
    "def create_requests_list(traffic_list):\n",
    "    traffic_requests = []\n",
    "    for line_num in range(len(traffic_list)):\n",
    "        line = traffic_list[line_num]\n",
    "        \n",
    "        if line.startswith('GET'):\n",
    "            # mozna jeste odstranim HTTP/1.1 ci na zacatku localhost\n",
    "            # Remove unnecessary white spaces and uppercase\n",
    "            line = line.lower().replace(' ', '')\n",
    "            traffic_requests.append(line)\n",
    "            \n",
    "        elif line.startswith('POST') or line.startswith('PUT'):\n",
    "            request_str = line\n",
    "            while not line.startswith('Content-Length:'):\n",
    "                line_num += 1\n",
    "                line = traffic_list[line_num]\n",
    "            # Second line below 'Content-Length' may be relevant\n",
    "            request_str = request_str + traffic_list[line_num + 2]\n",
    "            request_str = request_str.lower().replace(' ', '')\n",
    "            traffic_requests.append(request_str)\n",
    "    return traffic_requests"
   ]
  },
  {
   "cell_type": "code",
   "execution_count": 5,
   "metadata": {},
   "outputs": [],
   "source": [
    "normal_traffic_request = create_requests_list(normal_traffic)\n",
    "anomalous_traffic_request = create_requests_list(anomalous_traffic)"
   ]
  },
  {
   "cell_type": "code",
   "execution_count": 6,
   "metadata": {},
   "outputs": [],
   "source": [
    "#anomalous_traffic_request\n",
    "#len(anomalous_traffic_request)"
   ]
  },
  {
   "cell_type": "code",
   "execution_count": null,
   "metadata": {},
   "outputs": [],
   "source": []
  },
  {
   "cell_type": "code",
   "execution_count": null,
   "metadata": {},
   "outputs": [],
   "source": []
  }
 ],
 "metadata": {
  "kernelspec": {
   "display_name": "Python [conda env:root] *",
   "language": "python",
   "name": "conda-root-py"
  },
  "language_info": {
   "codemirror_mode": {
    "name": "ipython",
    "version": 3
   },
   "file_extension": ".py",
   "mimetype": "text/x-python",
   "name": "python",
   "nbconvert_exporter": "python",
   "pygments_lexer": "ipython3",
   "version": "3.7.3"
  }
 },
 "nbformat": 4,
 "nbformat_minor": 2
}
